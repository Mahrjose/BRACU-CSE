{
 "cells": [
  {
   "cell_type": "markdown",
   "metadata": {},
   "source": [
    "# CSE220 Lab Assignment 01"
   ]
  },
  {
   "cell_type": "markdown",
   "metadata": {},
   "source": [
    "### Name : Mirza Meherab Hosen Rudra\n",
    "### ID : 21101048"
   ]
  },
  {
   "cell_type": "markdown",
   "metadata": {},
   "source": [
    "## Linear Arrays"
   ]
  },
  {
   "cell_type": "code",
   "execution_count": 1,
   "metadata": {},
   "outputs": [
    {
     "name": "stdout",
     "output_type": "stream",
     "text": [
      "[40, 50, 60, 0, 0, 0]\n"
     ]
    }
   ],
   "source": [
    "# Linear Arrays\n",
    "# Probem -01\n",
    "\n",
    "\n",
    "def shiftLeft(arr, k):\n",
    "\n",
    "    for i in range(len(arr)):\n",
    "        if i < len(arr) - k and k > 0:\n",
    "            arr[i] = arr[i + k]\n",
    "\n",
    "        else:\n",
    "            if k <= 0:\n",
    "                print(\"Invalid 'k' Position\")\n",
    "                return\n",
    "\n",
    "            else:\n",
    "                arr[i] = 0\n",
    "\n",
    "    print(arr)\n",
    "\n",
    "\n",
    "def main():\n",
    "    source = [10, 20, 30, 40, 50, 60]\n",
    "    shiftLeft(source, 3)\n",
    "\n",
    "\n",
    "if __name__ == \"__main__\":\n",
    "    main()\n"
   ]
  },
  {
   "cell_type": "code",
   "execution_count": 2,
   "metadata": {},
   "outputs": [
    {
     "name": "stdout",
     "output_type": "stream",
     "text": [
      "[40, 50, 60, 10, 20, 30]\n"
     ]
    }
   ],
   "source": [
    "# Problem -02\n",
    "\n",
    "\n",
    "def rotateLeft(arr, k):\n",
    "\n",
    "    temp = [value for value in arr[:k]]\n",
    "\n",
    "    for i in range(len(arr)):\n",
    "        if i < len(arr) - k and k > 0:\n",
    "            arr[i] = arr[i + k]\n",
    "\n",
    "        else:\n",
    "            if k <= 0 or k > len(arr):\n",
    "                print(\"Invalid 'k' position\")\n",
    "                return\n",
    "            else:\n",
    "                arr[i] = temp[i - (len(arr) - k)]\n",
    "\n",
    "    print(arr)\n",
    "\n",
    "\n",
    "def main():\n",
    "    source = [10, 20, 30, 40, 50, 60]\n",
    "    rotateLeft(source, 3)\n",
    "\n",
    "\n",
    "if __name__ == \"__main__\":\n",
    "    main()\n"
   ]
  },
  {
   "cell_type": "code",
   "execution_count": 3,
   "metadata": {},
   "outputs": [
    {
     "name": "stdout",
     "output_type": "stream",
     "text": [
      "[10, 20, 40, 50, 0, 0, 0]\n"
     ]
    }
   ],
   "source": [
    "# Problem -03\n",
    "\n",
    "\n",
    "def remove(arr, size, index):\n",
    "\n",
    "    if index < 0 or index > size:\n",
    "        print(\"Invalid Index\")\n",
    "        return\n",
    "\n",
    "    for i in range(size):\n",
    "        if i >= index and i <= size - 1:\n",
    "            arr[i] = arr[i + 1]\n",
    "\n",
    "    arr[size - 1] = 0\n",
    "\n",
    "    print(arr)\n",
    "\n",
    "\n",
    "def main():\n",
    "    source = [10, 20, 30, 40, 50, 0, 0]\n",
    "    remove(source, 5, 2)\n",
    "\n",
    "\n",
    "if __name__ == \"__main__\":\n",
    "    main()\n"
   ]
  },
  {
   "cell_type": "code",
   "execution_count": 4,
   "metadata": {},
   "outputs": [
    {
     "name": "stdout",
     "output_type": "stream",
     "text": [
      "[10, 30, 50, 0, 0, 0, 0, 0, 0]\n"
     ]
    }
   ],
   "source": [
    "# Problem -04\n",
    "\n",
    "\n",
    "def removeAll(arr, size, element):\n",
    "    if size <= 0 and size > len(arr):\n",
    "        print(\"Invalid Size\")\n",
    "        return\n",
    "\n",
    "    # If index item is equal to the element to remove\n",
    "    # replace that index item as 0\n",
    "    for i in range(size):\n",
    "        if arr[i] == element:\n",
    "            arr[i] = 0\n",
    "\n",
    "    j = 0\n",
    "    for i in range(size):\n",
    "        # If index item is not 0 (after converting\n",
    "        # all target elements to 0)\n",
    "        # Make the array compact with the non zero items\n",
    "        if arr[i] != 0:\n",
    "            temp = arr[j]\n",
    "            arr[j] = arr[i]\n",
    "            arr[i] = temp\n",
    "            j += 1\n",
    "\n",
    "    print(arr)\n",
    "\n",
    "\n",
    "def main():\n",
    "    source = [10, 2, 30, 2, 50, 2, 2, 0, 0]\n",
    "    removeAll(source, 7, 2)\n",
    "\n",
    "\n",
    "if __name__ == \"__main__\":\n",
    "    main()\n"
   ]
  },
  {
   "cell_type": "code",
   "execution_count": 5,
   "metadata": {},
   "outputs": [
    {
     "name": "stdout",
     "output_type": "stream",
     "text": [
      "True\n",
      "False\n",
      "True\n"
     ]
    }
   ],
   "source": [
    "# Problem -05\n",
    "\n",
    "\n",
    "def Splitting_array(arr):\n",
    "    arr_A = [0]\n",
    "    arr_B = []\n",
    "    flag = None\n",
    "\n",
    "    for i in range(len(arr)):\n",
    "        if i == 0:\n",
    "            arr_A[i] = arr[i]\n",
    "            arr_B = arr[i + 1 : (len(arr))]\n",
    "            if sum(arr_A) == sum(arr_B):\n",
    "                flag = True\n",
    "                break\n",
    "            else:\n",
    "                arr_A = []\n",
    "                flag = False\n",
    "        else:\n",
    "            arr_A = arr[0 : i + 1]\n",
    "            arr_B = arr[i + 1 : (len(arr))]\n",
    "            if sum(arr_A) == sum(arr_B):\n",
    "                flag = True\n",
    "                break\n",
    "            else:\n",
    "                flag = False\n",
    "    print(flag)\n",
    "\n",
    "\n",
    "def main():\n",
    "    arr = [1, 1, 1, 2, 1]\n",
    "    Splitting_array(arr)\n",
    "\n",
    "    arr = [2, 1, 1, 2, 1]\n",
    "    Splitting_array(arr)\n",
    "\n",
    "    arr = [10, 3, 1, 2, 10]\n",
    "    Splitting_array(arr)\n",
    "\n",
    "\n",
    "if __name__ == \"__main__\":\n",
    "    main()\n"
   ]
  },
  {
   "cell_type": "code",
   "execution_count": 6,
   "metadata": {},
   "outputs": [
    {
     "name": "stdout",
     "output_type": "stream",
     "text": [
      "n = 2: [0, 1, 2, 1]\n",
      "n = 3: [0, 0, 1, 0, 2, 1, 3, 2, 1]\n",
      "n = 4: [0, 0, 0, 1, 0, 0, 2, 1, 0, 3, 2, 1, 4, 3, 2, 1]\n"
     ]
    }
   ],
   "source": [
    "# Problem -06\n",
    "\n",
    "\n",
    "def array_series(num) -> list:\n",
    "\n",
    "    arr = [0] * (num * num)\n",
    "\n",
    "    i = 1\n",
    "    while i <= num:\n",
    "        j = 1\n",
    "        while j <= i:\n",
    "            arr[(i * num) - j] = j\n",
    "\n",
    "            j += 1\n",
    "        i += 1\n",
    "\n",
    "    return arr\n",
    "\n",
    "\n",
    "def main():\n",
    "\n",
    "    # Uncomment for manual input\n",
    "    # print(array_series(int(input(\"Input 'n' = \"))))\n",
    "\n",
    "    print(f\"n = 2: {array_series(2)}\")\n",
    "    print(f\"n = 3: {array_series(3)}\")\n",
    "    print(f\"n = 4: {array_series(4)}\")\n",
    "\n",
    "\n",
    "if __name__ == \"__main__\":\n",
    "    main()\n"
   ]
  },
  {
   "cell_type": "code",
   "execution_count": 7,
   "metadata": {},
   "outputs": [
    {
     "name": "stdout",
     "output_type": "stream",
     "text": [
      "3\n",
      "4\n"
     ]
    }
   ],
   "source": [
    "# Problem -07\n",
    "\n",
    "\n",
    "def maxBunch(arr) -> None:\n",
    "\n",
    "    streak, currnt_streak = 1, 1\n",
    "    for i in range(len(arr)):\n",
    "        # if this is the last element, print the result\n",
    "        if i == len(arr) - 1:\n",
    "            print(streak)\n",
    "            return\n",
    "\n",
    "        elif arr[i] == arr[i + 1]:\n",
    "            currnt_streak += 1\n",
    "        else:\n",
    "            currnt_streak = 1\n",
    "\n",
    "        # if current streak is higher than previous streaks\n",
    "        # make this the new current streak\n",
    "        if currnt_streak >= streak:\n",
    "            streak = currnt_streak\n",
    "\n",
    "\n",
    "def main():\n",
    "    source = [1, 2, 2, 3, 4, 4, 4]\n",
    "    maxBunch(source)\n",
    "\n",
    "    source = [1, 1, 2, 2, 1, 1, 1, 1]\n",
    "    maxBunch(source)\n",
    "\n",
    "\n",
    "if __name__ == \"__main__\":\n",
    "    main()\n"
   ]
  },
  {
   "cell_type": "code",
   "execution_count": 8,
   "metadata": {},
   "outputs": [
    {
     "name": "stdout",
     "output_type": "stream",
     "text": [
      "True\n",
      "False\n"
     ]
    }
   ],
   "source": [
    "# Problem -08\n",
    "\n",
    "\n",
    "def repetition(arr) -> bool:\n",
    "\n",
    "    repeated_values = []\n",
    "    # Create a dictionary for counting item repetition\n",
    "    dictionary = {item: arr.count(item) for item in arr}\n",
    "\n",
    "    # if item repetition value is more than 1,\n",
    "    # item has been repeated so add to a list for more experiment\n",
    "    for repeated_count in dictionary.values():\n",
    "        if repeated_count > 1:\n",
    "            repeated_values.append(repeated_count)\n",
    "\n",
    "    # if 2 or more value are the same, length of set would be\n",
    "    # smaller than the main list meaing there're same repeated value\n",
    "    # for 2 or more items\n",
    "    if len(repeated_values) == len(set(repeated_values)):\n",
    "        return False\n",
    "    else:\n",
    "        return True\n",
    "\n",
    "\n",
    "def main():\n",
    "    source = [4, 5, 6, 6, 4, 3, 6, 4]\n",
    "    print(repetition(source))\n",
    "\n",
    "    source = [3, 4, 6, 3, 4, 7, 4, 6, 8, 6, 6]\n",
    "    print(repetition(source))\n",
    "\n",
    "\n",
    "if __name__ == \"__main__\":\n",
    "    main()\n"
   ]
  },
  {
   "cell_type": "markdown",
   "metadata": {},
   "source": [
    "## Circular Array"
   ]
  },
  {
   "cell_type": "code",
   "execution_count": 9,
   "metadata": {},
   "outputs": [
    {
     "name": "stdout",
     "output_type": "stream",
     "text": [
      "True\n",
      "False\n"
     ]
    }
   ],
   "source": [
    "# Circular array\n",
    "# Problem -01\n",
    "\n",
    "\n",
    "def is_palindrome(arr, start, size) -> bool:\n",
    "    new_arr = []\n",
    "\n",
    "    for _ in range(size):\n",
    "        if arr[start] != 0:\n",
    "            new_arr.append(arr[start])\n",
    "            start += 1\n",
    "        if start == len(arr):\n",
    "            start = 0\n",
    "\n",
    "    arr_half = (len(new_arr) + 1) // 2\n",
    "\n",
    "    if new_arr[0:arr_half] == new_arr[-1 : -(arr_half + 1) : -1]:\n",
    "        return True\n",
    "    else:\n",
    "        return False\n",
    "\n",
    "\n",
    "def main():\n",
    "    source = [20, 10, 0, 0, 0, 10, 20, 30]\n",
    "    print(is_palindrome(source, start=5, size=5))\n",
    "\n",
    "    source = [10, 20, 0, 0, 0, 10, 20, 30]\n",
    "    print(is_palindrome(source, start=5, size=5))\n",
    "\n",
    "\n",
    "if __name__ == \"__main__\":\n",
    "    main()\n"
   ]
  },
  {
   "cell_type": "code",
   "execution_count": 10,
   "metadata": {},
   "outputs": [
    {
     "name": "stdout",
     "output_type": "stream",
     "text": [
      "[10, 20, 40]\n"
     ]
    }
   ],
   "source": [
    "# Problem -02\n",
    "\n",
    "\n",
    "def intersection(array_1, start_1, size_1, array_2, start_2, size_2):\n",
    "\n",
    "    intersection_array = []\n",
    "\n",
    "    # Array 1\n",
    "    array_1_A = []\n",
    "    array_1_B = []\n",
    "    for i in range(1, len(array_1)):\n",
    "        if array_1[i] == 0 and array_1[i - 1] != 0:\n",
    "            for j in range(i):\n",
    "                array_1_B.append(array_1[j])\n",
    "\n",
    "    for i in range(1, len(array_1)):\n",
    "        if array_1[i] != 0 and array_1[i - 1] == 0:\n",
    "            for j in range(i, len(array_1)):\n",
    "                array_1_A.append(array_1[j])\n",
    "\n",
    "    # Array 2\n",
    "    array_2_A = []\n",
    "    array_2_B = []\n",
    "    for i in range(1, len(array_2)):\n",
    "        if array_2[i] == 0 and array_2[i - 1] != 0:\n",
    "            for j in range(i):\n",
    "                array_2_B.append(array_2[j])\n",
    "\n",
    "    for i in range(1, len(array_2)):\n",
    "        if array_2[i] != 0 and array_2[i - 1] == 0:\n",
    "            for j in range(i, len(array_2)):\n",
    "                array_2_A.append(array_2[j])\n",
    "\n",
    "    # Combine\n",
    "    new_array_1 = array_1_A + array_1_B\n",
    "    new_array_2 = array_2_A + array_2_B\n",
    "\n",
    "    # search for common items\n",
    "    for i in range(len(new_array_1)):\n",
    "        new = new_array_1[i]\n",
    "        for i in range(len(new_array_2)):\n",
    "            if new == new_array_2[i]:\n",
    "                if new not in intersection_array:\n",
    "                    intersection_array.append(new)\n",
    "                else:\n",
    "                    continue\n",
    "            else:\n",
    "                continue\n",
    "\n",
    "    print(intersection_array)\n",
    "\n",
    "\n",
    "def main():\n",
    "    array_1 = [40, 50, 0, 0, 0, 10, 20, 30]\n",
    "    array_2 = [10, 20, 5, 0, 0, 0, 0, 0, 5, 40, 15, 25]\n",
    "\n",
    "    intersection(array_1, 5, 5, array_2, 8, 7)\n",
    "\n",
    "\n",
    "if __name__ == \"__main__\":\n",
    "    main()\n"
   ]
  },
  {
   "cell_type": "code",
   "execution_count": 11,
   "metadata": {},
   "outputs": [
    {
     "name": "stdout",
     "output_type": "stream",
     "text": [
      "Current Players: ['Guts', 'Eren', 'Kaneki', 'Araragi', 'Hachiman', 'Itachi', 'Lelouch']\n",
      "Current Players: ['Lelouch', 'Guts', 'Eren', 'Kaneki', 'Araragi', 'Hachiman', 'Itachi']\n",
      "Current Players: ['Itachi', 'Lelouch', 'Guts', 'Eren', 'Kaneki', 'Araragi', 'Hachiman']\n",
      "Current Players: ['Hachiman', 'Itachi', 'Lelouch', 'Guts', 'Eren', 'Kaneki', 'Araragi']\n",
      "Current Players: ['Araragi', 'Hachiman', 'Itachi', 'Lelouch', 'Guts', 'Eren', 'Kaneki']\n",
      "\n",
      "The music stopped!!!\n",
      "Player Name: Lelouch in Position: 3 is out of the Game!\n",
      "\n",
      "Current Players: ['Kaneki', 'Araragi', 'Hachiman', 'Itachi', 'Guts', 'Eren']\n",
      "\n",
      "The music stopped!!!\n",
      "Player Name: Itachi in Position: 3 is out of the Game!\n",
      "\n",
      "Current Players: ['Eren', 'Kaneki', 'Araragi', 'Hachiman', 'Guts']\n",
      "Current Players: ['Guts', 'Eren', 'Kaneki', 'Araragi', 'Hachiman']\n",
      "Current Players: ['Hachiman', 'Guts', 'Eren', 'Kaneki', 'Araragi']\n",
      "Current Players: ['Araragi', 'Hachiman', 'Guts', 'Eren', 'Kaneki']\n",
      "Current Players: ['Kaneki', 'Araragi', 'Hachiman', 'Guts', 'Eren']\n",
      "Current Players: ['Eren', 'Kaneki', 'Araragi', 'Hachiman', 'Guts']\n",
      "Current Players: ['Guts', 'Eren', 'Kaneki', 'Araragi', 'Hachiman']\n",
      "Current Players: ['Hachiman', 'Guts', 'Eren', 'Kaneki', 'Araragi']\n",
      "Current Players: ['Araragi', 'Hachiman', 'Guts', 'Eren', 'Kaneki']\n",
      "Current Players: ['Kaneki', 'Araragi', 'Hachiman', 'Guts', 'Eren']\n",
      "\n",
      "The music stopped!!!\n",
      "Player Name: Hachiman in Position: 2 is out of the Game!\n",
      "\n",
      "Current Players: ['Eren', 'Kaneki', 'Araragi', 'Guts']\n",
      "Current Players: ['Guts', 'Eren', 'Kaneki', 'Araragi']\n",
      "Current Players: ['Araragi', 'Guts', 'Eren', 'Kaneki']\n",
      "Current Players: ['Kaneki', 'Araragi', 'Guts', 'Eren']\n",
      "Current Players: ['Eren', 'Kaneki', 'Araragi', 'Guts']\n",
      "\n",
      "The music stopped!!!\n",
      "Player Name: Araragi in Position: 2 is out of the Game!\n",
      "\n",
      "Current Players: ['Guts', 'Eren', 'Kaneki']\n",
      "Current Players: ['Kaneki', 'Guts', 'Eren']\n",
      "\n",
      "The music stopped!!!\n",
      "Player Name: Guts in Position: 1 is out of the Game!\n",
      "\n",
      "Current Players: ['Eren', 'Kaneki']\n",
      "Current Players: ['Kaneki', 'Eren']\n",
      "Current Players: ['Eren', 'Kaneki']\n",
      "Current Players: ['Kaneki', 'Eren']\n",
      "Current Players: ['Eren', 'Kaneki']\n",
      "Current Players: ['Kaneki', 'Eren']\n",
      "Current Players: ['Eren', 'Kaneki']\n",
      "Current Players: ['Kaneki', 'Eren']\n",
      "\n",
      "The music stopped!!!\n",
      "Player Name: Eren in Position: 1 is out of the Game!\n",
      "\n",
      "We've got the Winner!!!\n",
      "Aaand the winner is: Kaneki\n"
     ]
    }
   ],
   "source": [
    "# Problem -03\n",
    "\n",
    "import random\n",
    "\n",
    "\n",
    "def musical_chair(players):\n",
    "    player_num = len(players)\n",
    "\n",
    "    while player_num > 1:\n",
    "\n",
    "        print(f\"Current Players: {players}\")\n",
    "        var = random.randint(0, 3)\n",
    "\n",
    "        if var == 1:\n",
    "            position = int(player_num / 2)\n",
    "            print(\n",
    "                f\"\\nThe music stopped!!!\\nPlayer Name: {players[position]} in Position: {position} is out of the Game!\\n\"\n",
    "            )\n",
    "            players.pop(position)\n",
    "\n",
    "        # Circulate items\n",
    "        players.insert(0, players[len(players) - 1])\n",
    "        players.pop(len(players) - 1)\n",
    "        player_num = len(players)\n",
    "    print(f\"We've got the Winner!!!\\nAaand the winner is: {players[0]}\")\n",
    "\n",
    "\n",
    "def main():\n",
    "    players = [\"Guts\", \"Eren\", \"Kaneki\", \"Araragi\", \"Hachiman\", \"Itachi\", \"Lelouch\"]\n",
    "    musical_chair(players)\n",
    "\n",
    "\n",
    "if __name__ == \"__main__\":\n",
    "    main()\n"
   ]
  }
 ],
 "metadata": {
  "interpreter": {
   "hash": "31f2aee4e71d21fbe5cf8b01ff0e069b9275f58929596ceb00d14d90e3e16cd6"
  },
  "kernelspec": {
   "display_name": "Python 3.8.10 64-bit",
   "language": "python",
   "name": "python3"
  },
  "language_info": {
   "codemirror_mode": {
    "name": "ipython",
    "version": 3
   },
   "file_extension": ".py",
   "mimetype": "text/x-python",
   "name": "python",
   "nbconvert_exporter": "python",
   "pygments_lexer": "ipython3",
   "version": "3.8.10"
  },
  "orig_nbformat": 4
 },
 "nbformat": 4,
 "nbformat_minor": 2
}
